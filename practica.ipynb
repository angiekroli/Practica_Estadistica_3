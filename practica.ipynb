{
 "cells": [
  {
   "cell_type": "code",
   "execution_count": 35,
   "metadata": {},
   "outputs": [],
   "source": [
    "import pandas as pd\n",
    "import seaborn as sns\n",
    "import matplotlib.pyplot as plt"
   ]
  },
  {
   "cell_type": "code",
   "execution_count": 40,
   "metadata": {},
   "outputs": [],
   "source": [
    "# Load Files\n",
    "folder = 'data'\n",
    "serieTemporalAccidentes = f'{folder}/mat5.xlsx'\n",
    "serieClimaAnual = f'{folder}/Clima_Anual.xlsx'\n",
    "\n",
    "dfSerieTemporalAccidentes = pd.read_excel(serieTemporalAccidentes, index_col=0)\n",
    "dfSerieClimaAnual = pd.read_excel(serieClimaAnual, index_col=0)\n",
    "\n",
    "dfSerieTemporalAccidentesAnual = dfSerieTemporalAccidentes.groupby('Año').sum()\n",
    "dfAnual = dfSerieTemporalAccidentesAnual.iloc[:,[1]]\n",
    "\n",
    "dfAnual = dfAnual.join(dfSerieClimaAnual, on='Año')\n"
   ]
  },
  {
   "cell_type": "code",
   "execution_count": 39,
   "metadata": {},
   "outputs": [],
   "source": [
    "\n",
    "# sns.heatmap(dfAnual.corr(), cmap=\"coolwarm\", annot=True)\n",
    "# plt.show()"
   ]
  }
 ],
 "metadata": {
  "kernelspec": {
   "display_name": "Python 3",
   "language": "python",
   "name": "python3"
  },
  "language_info": {
   "codemirror_mode": {
    "name": "ipython",
    "version": 3
   },
   "file_extension": ".py",
   "mimetype": "text/x-python",
   "name": "python",
   "nbconvert_exporter": "python",
   "pygments_lexer": "ipython3",
   "version": "3.11.6"
  }
 },
 "nbformat": 4,
 "nbformat_minor": 2
}
